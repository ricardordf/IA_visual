{
 "cells": [
  {
   "cell_type": "markdown",
   "metadata": {
    "id": "NjcAmm59FOpv"
   },
   "source": [
    "# Ejercicio 4: Algoritmos ML"
   ]
  },
  {
   "cell_type": "markdown",
   "metadata": {
    "id": "AQkB8j7CUe1O"
   },
   "source": [
    "\n",
    "Las líneas 400 y 500, realizan un proceso de corte de un papel filtrante por ultrasonidos para su posterior incorporación a las líneas 4 y 5 donde se suelda para terminar de ensamblar los filtros.\n",
    "\n",
    "1.\tLOCATION_ID: Identificador único para la localización dentro de las distintas plantas de producción.\n",
    "2.\tLine: Línea de producción (para un mismo producto puede disponerse de varias líneas para aumentar el volumen de producción).\n",
    "3.\tStation: Estación física de trabajo diseñada para realizar uno o varios procesos productivos (una estación puede contar con varios puestos de trabajo). La etiqueta indica un tipo de estación no una unidad física.\n",
    "4.\tIndex: Indica el número de estaciones del mismo tipo que hay dentro de la línea. Ej. Línea: 400, Station:20, Index:1,2 (si hay dos estaciones de tipo 20 dentro de la línea 400).\n",
    "5.\tFu: Function Unit. Separaciones funcionales dentro de la estación e index. Cuando dentro de una estación se realizan dos funciones distintas.\n",
    "6.\tWP: Work Position. Posición donde se pueden realizar uno o más procesos, dentro de una function unit (ej. envasar y estampar).\n",
    "7.\tTP: Tool Position. Posición de la herramienta dentro del WP. Varia cuando tienes varias herramientas involucradas en la misma WP.\n",
    "8.\tRESULT_DATE: Fecha, hora y franja horaria.\n",
    "9.\tUNIQUEPART_ID: **Identificador único** de cada una de las piezas producidas.\n",
    "10.\tCut Amplitude: Amplitud del corte realizado (micrómetros).\n",
    "11.\tCut Energy: Energía utilizada en el corte (J).\n",
    "12.\tCut Frecuency: Frecuencia ultrasonido utilizada para realizar el corte (Hz).\n",
    "13.\tCut Power: Potencia de corte (W).\n",
    "14.\tCut WeldTime: Tiempo necesario para realizar el corte del papel (ms).\n",
    "15.\tGrammage: Gramaje del papel de lija (g/m2).\n",
    "16.\tHumidity: Humedad del entorno (%).\n",
    "17.\tTemperature: Grados del entorno.\n",
    "\n",
    "\n",
    "\n",
    "\n",
    "\n",
    "\n",
    "\n",
    "\n",
    "\n",
    "\n",
    "\n",
    "\n",
    "\n",
    "\n"
   ]
  },
  {
   "cell_type": "markdown",
   "metadata": {
    "id": "j1gYI7YQFckY"
   },
   "source": [
    "Importar librerias con las que trabajaremos"
   ]
  },
  {
   "cell_type": "code",
   "execution_count": 1,
   "metadata": {
    "id": "2ev0bAeOFEV3"
   },
   "outputs": [],
   "source": [
    "# Import libraries\n",
    "import pandas as pd\n",
    "import matplotlib.pyplot as plt\n",
    "import seaborn as sns\n",
    "from scipy import stats\n",
    "import numpy as np\n",
    "\n",
    "from sklearn import preprocessing\n",
    "from sklearn.model_selection import train_test_split\n",
    "from sklearn import svm"
   ]
  },
  {
   "cell_type": "markdown",
   "metadata": {
    "id": "9mnuftAtFFbe"
   },
   "source": [
    "Cargar fichero con los datos a utilizar"
   ]
  },
  {
   "cell_type": "code",
   "execution_count": 2,
   "metadata": {
    "colab": {
     "base_uri": "https://localhost:8080/"
    },
    "id": "mh5fUtwJFM2j",
    "outputId": "28243d07-682b-4277-f471-34aa3b80ee4f"
   },
   "outputs": [],
   "source": [
    "# Load dataset\n",
    "df = pd.read_csv(\"CleanedData.csv\",delimiter=';')"
   ]
  },
  {
   "cell_type": "markdown",
   "metadata": {
    "id": "CmE5d5BpGQ7i"
   },
   "source": [
    "Analisis de los datos"
   ]
  },
  {
   "cell_type": "code",
   "execution_count": 3,
   "metadata": {
    "colab": {
     "base_uri": "https://localhost:8080/",
     "height": 490
    },
    "id": "VreIypTaGRbw",
    "outputId": "259826a6-bec3-41f9-a87a-21df8d374cbe"
   },
   "outputs": [
    {
     "data": {
      "text/html": [
       "<div>\n",
       "<style scoped>\n",
       "    .dataframe tbody tr th:only-of-type {\n",
       "        vertical-align: middle;\n",
       "    }\n",
       "\n",
       "    .dataframe tbody tr th {\n",
       "        vertical-align: top;\n",
       "    }\n",
       "\n",
       "    .dataframe thead th {\n",
       "        text-align: right;\n",
       "    }\n",
       "</style>\n",
       "<table border=\"1\" class=\"dataframe\">\n",
       "  <thead>\n",
       "    <tr style=\"text-align: right;\">\n",
       "      <th></th>\n",
       "      <th>LOCATION_ID</th>\n",
       "      <th>Line</th>\n",
       "      <th>Station</th>\n",
       "      <th>Index</th>\n",
       "      <th>Fu</th>\n",
       "      <th>WP</th>\n",
       "      <th>TP</th>\n",
       "      <th>RESULT_DATE</th>\n",
       "      <th>UNIQUEPART_ID</th>\n",
       "      <th>Cut Amplitude</th>\n",
       "      <th>Cut Energy</th>\n",
       "      <th>Cut Frequency</th>\n",
       "      <th>Cut Power</th>\n",
       "      <th>Cut WeldTime</th>\n",
       "      <th>Grammage</th>\n",
       "      <th>Humidity</th>\n",
       "      <th>Temperature</th>\n",
       "    </tr>\n",
       "  </thead>\n",
       "  <tbody>\n",
       "    <tr>\n",
       "      <th>0</th>\n",
       "      <td>00000000040000200001400210001</td>\n",
       "      <td>400</td>\n",
       "      <td>20</td>\n",
       "      <td>1</td>\n",
       "      <td>4</td>\n",
       "      <td>21</td>\n",
       "      <td>1</td>\n",
       "      <td>27/01/23 07:01:30,925766000 EUROPE/BERLIN</td>\n",
       "      <td>L4_2004533475_FU4_230127_070131</td>\n",
       "      <td>122.0</td>\n",
       "      <td>320.0</td>\n",
       "      <td>20081.0</td>\n",
       "      <td>3522.0</td>\n",
       "      <td>383.0</td>\n",
       "      <td>0.0</td>\n",
       "      <td>35.56017</td>\n",
       "      <td>23.40465</td>\n",
       "    </tr>\n",
       "    <tr>\n",
       "      <th>1</th>\n",
       "      <td>00000000040000200001400210001</td>\n",
       "      <td>400</td>\n",
       "      <td>20</td>\n",
       "      <td>1</td>\n",
       "      <td>4</td>\n",
       "      <td>21</td>\n",
       "      <td>1</td>\n",
       "      <td>27/01/23 07:01:35,066370000 EUROPE/BERLIN</td>\n",
       "      <td>L4_2004533475_FU4_230127_070135</td>\n",
       "      <td>102.0</td>\n",
       "      <td>320.0</td>\n",
       "      <td>20078.0</td>\n",
       "      <td>2730.0</td>\n",
       "      <td>283.0</td>\n",
       "      <td>0.0</td>\n",
       "      <td>35.52355</td>\n",
       "      <td>23.44279</td>\n",
       "    </tr>\n",
       "    <tr>\n",
       "      <th>2</th>\n",
       "      <td>00000000040000200001400210001</td>\n",
       "      <td>400</td>\n",
       "      <td>20</td>\n",
       "      <td>1</td>\n",
       "      <td>4</td>\n",
       "      <td>21</td>\n",
       "      <td>1</td>\n",
       "      <td>27/01/23 07:01:41,316380000 EUROPE/BERLIN</td>\n",
       "      <td>L4_2004533475_FU4_230127_070141</td>\n",
       "      <td>123.0</td>\n",
       "      <td>320.0</td>\n",
       "      <td>20106.0</td>\n",
       "      <td>3315.0</td>\n",
       "      <td>274.0</td>\n",
       "      <td>0.0</td>\n",
       "      <td>35.52660</td>\n",
       "      <td>23.41533</td>\n",
       "    </tr>\n",
       "    <tr>\n",
       "      <th>3</th>\n",
       "      <td>00000000040000200001400210001</td>\n",
       "      <td>400</td>\n",
       "      <td>20</td>\n",
       "      <td>1</td>\n",
       "      <td>4</td>\n",
       "      <td>21</td>\n",
       "      <td>1</td>\n",
       "      <td>27/01/23 07:01:47,582042000 EUROPE/BERLIN</td>\n",
       "      <td>L4_2004533475_FU4_230127_070147</td>\n",
       "      <td>107.0</td>\n",
       "      <td>320.0</td>\n",
       "      <td>20080.0</td>\n",
       "      <td>2844.0</td>\n",
       "      <td>280.0</td>\n",
       "      <td>0.0</td>\n",
       "      <td>35.48082</td>\n",
       "      <td>23.39702</td>\n",
       "    </tr>\n",
       "    <tr>\n",
       "      <th>4</th>\n",
       "      <td>00000000040000200001400210001</td>\n",
       "      <td>400</td>\n",
       "      <td>20</td>\n",
       "      <td>1</td>\n",
       "      <td>4</td>\n",
       "      <td>21</td>\n",
       "      <td>1</td>\n",
       "      <td>27/01/23 07:01:53,865001000 EUROPE/BERLIN</td>\n",
       "      <td>L4_2004533475_FU4_230127_070154</td>\n",
       "      <td>101.0</td>\n",
       "      <td>320.0</td>\n",
       "      <td>20078.0</td>\n",
       "      <td>2763.0</td>\n",
       "      <td>285.0</td>\n",
       "      <td>0.0</td>\n",
       "      <td>35.46556</td>\n",
       "      <td>23.41228</td>\n",
       "    </tr>\n",
       "  </tbody>\n",
       "</table>\n",
       "</div>"
      ],
      "text/plain": [
       "                     LOCATION_ID  Line  Station  Index  Fu  WP  TP  \\\n",
       "0  00000000040000200001400210001   400       20      1   4  21   1   \n",
       "1  00000000040000200001400210001   400       20      1   4  21   1   \n",
       "2  00000000040000200001400210001   400       20      1   4  21   1   \n",
       "3  00000000040000200001400210001   400       20      1   4  21   1   \n",
       "4  00000000040000200001400210001   400       20      1   4  21   1   \n",
       "\n",
       "                                 RESULT_DATE                    UNIQUEPART_ID  \\\n",
       "0  27/01/23 07:01:30,925766000 EUROPE/BERLIN  L4_2004533475_FU4_230127_070131   \n",
       "1  27/01/23 07:01:35,066370000 EUROPE/BERLIN  L4_2004533475_FU4_230127_070135   \n",
       "2  27/01/23 07:01:41,316380000 EUROPE/BERLIN  L4_2004533475_FU4_230127_070141   \n",
       "3  27/01/23 07:01:47,582042000 EUROPE/BERLIN  L4_2004533475_FU4_230127_070147   \n",
       "4  27/01/23 07:01:53,865001000 EUROPE/BERLIN  L4_2004533475_FU4_230127_070154   \n",
       "\n",
       "   Cut Amplitude  Cut Energy  Cut Frequency  Cut Power  Cut WeldTime  \\\n",
       "0          122.0       320.0        20081.0     3522.0         383.0   \n",
       "1          102.0       320.0        20078.0     2730.0         283.0   \n",
       "2          123.0       320.0        20106.0     3315.0         274.0   \n",
       "3          107.0       320.0        20080.0     2844.0         280.0   \n",
       "4          101.0       320.0        20078.0     2763.0         285.0   \n",
       "\n",
       "   Grammage  Humidity  Temperature  \n",
       "0       0.0  35.56017     23.40465  \n",
       "1       0.0  35.52355     23.44279  \n",
       "2       0.0  35.52660     23.41533  \n",
       "3       0.0  35.48082     23.39702  \n",
       "4       0.0  35.46556     23.41228  "
      ]
     },
     "execution_count": 3,
     "metadata": {},
     "output_type": "execute_result"
    }
   ],
   "source": [
    "# See first 5 rows of dataset\n",
    "df.head()"
   ]
  },
  {
   "cell_type": "code",
   "execution_count": 4,
   "metadata": {
    "colab": {
     "base_uri": "https://localhost:8080/",
     "height": 411
    },
    "id": "DdLBWxV_GzsJ",
    "outputId": "c368b183-5023-47b8-e465-b7751269d8e7"
   },
   "outputs": [
    {
     "data": {
      "text/html": [
       "<div>\n",
       "<style scoped>\n",
       "    .dataframe tbody tr th:only-of-type {\n",
       "        vertical-align: middle;\n",
       "    }\n",
       "\n",
       "    .dataframe tbody tr th {\n",
       "        vertical-align: top;\n",
       "    }\n",
       "\n",
       "    .dataframe thead th {\n",
       "        text-align: right;\n",
       "    }\n",
       "</style>\n",
       "<table border=\"1\" class=\"dataframe\">\n",
       "  <thead>\n",
       "    <tr style=\"text-align: right;\">\n",
       "      <th></th>\n",
       "      <th>Line</th>\n",
       "      <th>Station</th>\n",
       "      <th>Index</th>\n",
       "      <th>Fu</th>\n",
       "      <th>WP</th>\n",
       "      <th>TP</th>\n",
       "      <th>Cut Amplitude</th>\n",
       "      <th>Cut Energy</th>\n",
       "      <th>Cut Frequency</th>\n",
       "      <th>Cut Power</th>\n",
       "      <th>Cut WeldTime</th>\n",
       "      <th>Grammage</th>\n",
       "      <th>Humidity</th>\n",
       "      <th>Temperature</th>\n",
       "    </tr>\n",
       "  </thead>\n",
       "  <tbody>\n",
       "    <tr>\n",
       "      <th>count</th>\n",
       "      <td>16076.000000</td>\n",
       "      <td>16076.0</td>\n",
       "      <td>16076.0</td>\n",
       "      <td>16076.000000</td>\n",
       "      <td>16076.0</td>\n",
       "      <td>16076.0</td>\n",
       "      <td>16076.000000</td>\n",
       "      <td>16076.000000</td>\n",
       "      <td>16076.000000</td>\n",
       "      <td>16076.000000</td>\n",
       "      <td>16076.000000</td>\n",
       "      <td>16076.000000</td>\n",
       "      <td>16076.000000</td>\n",
       "      <td>16076.000000</td>\n",
       "    </tr>\n",
       "    <tr>\n",
       "      <th>mean</th>\n",
       "      <td>475.161732</td>\n",
       "      <td>20.0</td>\n",
       "      <td>1.0</td>\n",
       "      <td>3.170814</td>\n",
       "      <td>21.0</td>\n",
       "      <td>1.0</td>\n",
       "      <td>111.260761</td>\n",
       "      <td>332.841192</td>\n",
       "      <td>20032.532657</td>\n",
       "      <td>2506.980592</td>\n",
       "      <td>329.596479</td>\n",
       "      <td>407.585581</td>\n",
       "      <td>35.040988</td>\n",
       "      <td>22.461128</td>\n",
       "    </tr>\n",
       "    <tr>\n",
       "      <th>std</th>\n",
       "      <td>43.208835</td>\n",
       "      <td>0.0</td>\n",
       "      <td>0.0</td>\n",
       "      <td>0.985334</td>\n",
       "      <td>0.0</td>\n",
       "      <td>0.0</td>\n",
       "      <td>9.251505</td>\n",
       "      <td>22.414825</td>\n",
       "      <td>43.351907</td>\n",
       "      <td>1051.830733</td>\n",
       "      <td>49.945660</td>\n",
       "      <td>210.529409</td>\n",
       "      <td>1.338493</td>\n",
       "      <td>0.288926</td>\n",
       "    </tr>\n",
       "    <tr>\n",
       "      <th>min</th>\n",
       "      <td>400.000000</td>\n",
       "      <td>20.0</td>\n",
       "      <td>1.0</td>\n",
       "      <td>2.000000</td>\n",
       "      <td>21.0</td>\n",
       "      <td>1.0</td>\n",
       "      <td>81.000000</td>\n",
       "      <td>280.000000</td>\n",
       "      <td>19972.000000</td>\n",
       "      <td>13.000000</td>\n",
       "      <td>201.000000</td>\n",
       "      <td>0.000000</td>\n",
       "      <td>30.030210</td>\n",
       "      <td>21.810050</td>\n",
       "    </tr>\n",
       "    <tr>\n",
       "      <th>25%</th>\n",
       "      <td>500.000000</td>\n",
       "      <td>20.0</td>\n",
       "      <td>1.0</td>\n",
       "      <td>2.000000</td>\n",
       "      <td>21.0</td>\n",
       "      <td>1.0</td>\n",
       "      <td>104.000000</td>\n",
       "      <td>320.000000</td>\n",
       "      <td>20000.000000</td>\n",
       "      <td>1698.000000</td>\n",
       "      <td>286.000000</td>\n",
       "      <td>491.710400</td>\n",
       "      <td>34.290600</td>\n",
       "      <td>22.263250</td>\n",
       "    </tr>\n",
       "    <tr>\n",
       "      <th>50%</th>\n",
       "      <td>500.000000</td>\n",
       "      <td>20.0</td>\n",
       "      <td>1.0</td>\n",
       "      <td>4.000000</td>\n",
       "      <td>21.0</td>\n",
       "      <td>1.0</td>\n",
       "      <td>111.000000</td>\n",
       "      <td>330.000000</td>\n",
       "      <td>20020.000000</td>\n",
       "      <td>2634.000000</td>\n",
       "      <td>345.000000</td>\n",
       "      <td>510.643400</td>\n",
       "      <td>34.708700</td>\n",
       "      <td>22.446360</td>\n",
       "    </tr>\n",
       "    <tr>\n",
       "      <th>75%</th>\n",
       "      <td>500.000000</td>\n",
       "      <td>20.0</td>\n",
       "      <td>1.0</td>\n",
       "      <td>4.000000</td>\n",
       "      <td>21.0</td>\n",
       "      <td>1.0</td>\n",
       "      <td>119.000000</td>\n",
       "      <td>350.000000</td>\n",
       "      <td>20058.000000</td>\n",
       "      <td>3358.000000</td>\n",
       "      <td>364.000000</td>\n",
       "      <td>520.948300</td>\n",
       "      <td>35.352640</td>\n",
       "      <td>22.609640</td>\n",
       "    </tr>\n",
       "    <tr>\n",
       "      <th>max</th>\n",
       "      <td>500.000000</td>\n",
       "      <td>20.0</td>\n",
       "      <td>1.0</td>\n",
       "      <td>4.000000</td>\n",
       "      <td>21.0</td>\n",
       "      <td>1.0</td>\n",
       "      <td>131.000000</td>\n",
       "      <td>390.000000</td>\n",
       "      <td>20190.000000</td>\n",
       "      <td>4466.000000</td>\n",
       "      <td>499.000000</td>\n",
       "      <td>666.406500</td>\n",
       "      <td>40.534680</td>\n",
       "      <td>23.500780</td>\n",
       "    </tr>\n",
       "  </tbody>\n",
       "</table>\n",
       "</div>"
      ],
      "text/plain": [
       "               Line  Station    Index            Fu       WP       TP  \\\n",
       "count  16076.000000  16076.0  16076.0  16076.000000  16076.0  16076.0   \n",
       "mean     475.161732     20.0      1.0      3.170814     21.0      1.0   \n",
       "std       43.208835      0.0      0.0      0.985334      0.0      0.0   \n",
       "min      400.000000     20.0      1.0      2.000000     21.0      1.0   \n",
       "25%      500.000000     20.0      1.0      2.000000     21.0      1.0   \n",
       "50%      500.000000     20.0      1.0      4.000000     21.0      1.0   \n",
       "75%      500.000000     20.0      1.0      4.000000     21.0      1.0   \n",
       "max      500.000000     20.0      1.0      4.000000     21.0      1.0   \n",
       "\n",
       "       Cut Amplitude    Cut Energy  Cut Frequency     Cut Power  Cut WeldTime  \\\n",
       "count   16076.000000  16076.000000   16076.000000  16076.000000  16076.000000   \n",
       "mean      111.260761    332.841192   20032.532657   2506.980592    329.596479   \n",
       "std         9.251505     22.414825      43.351907   1051.830733     49.945660   \n",
       "min        81.000000    280.000000   19972.000000     13.000000    201.000000   \n",
       "25%       104.000000    320.000000   20000.000000   1698.000000    286.000000   \n",
       "50%       111.000000    330.000000   20020.000000   2634.000000    345.000000   \n",
       "75%       119.000000    350.000000   20058.000000   3358.000000    364.000000   \n",
       "max       131.000000    390.000000   20190.000000   4466.000000    499.000000   \n",
       "\n",
       "           Grammage      Humidity   Temperature  \n",
       "count  16076.000000  16076.000000  16076.000000  \n",
       "mean     407.585581     35.040988     22.461128  \n",
       "std      210.529409      1.338493      0.288926  \n",
       "min        0.000000     30.030210     21.810050  \n",
       "25%      491.710400     34.290600     22.263250  \n",
       "50%      510.643400     34.708700     22.446360  \n",
       "75%      520.948300     35.352640     22.609640  \n",
       "max      666.406500     40.534680     23.500780  "
      ]
     },
     "execution_count": 4,
     "metadata": {},
     "output_type": "execute_result"
    }
   ],
   "source": [
    "# See basic stats for numerical columns\n",
    "df.describe()"
   ]
  },
  {
   "cell_type": "code",
   "execution_count": 5,
   "metadata": {
    "colab": {
     "base_uri": "https://localhost:8080/",
     "height": 300
    },
    "id": "4Dcs1wHFG3pX",
    "outputId": "97f7fec7-bbf3-4ab7-8f6a-83bd42a06e15"
   },
   "outputs": [
    {
     "data": {
      "text/html": [
       "<div>\n",
       "<style scoped>\n",
       "    .dataframe tbody tr th:only-of-type {\n",
       "        vertical-align: middle;\n",
       "    }\n",
       "\n",
       "    .dataframe tbody tr th {\n",
       "        vertical-align: top;\n",
       "    }\n",
       "\n",
       "    .dataframe thead th {\n",
       "        text-align: right;\n",
       "    }\n",
       "</style>\n",
       "<table border=\"1\" class=\"dataframe\">\n",
       "  <thead>\n",
       "    <tr style=\"text-align: right;\">\n",
       "      <th></th>\n",
       "      <th>Cut Amplitude</th>\n",
       "      <th>Cut Energy</th>\n",
       "      <th>Cut Frequency</th>\n",
       "      <th>Cut Power</th>\n",
       "      <th>Cut WeldTime</th>\n",
       "      <th>Grammage</th>\n",
       "      <th>Humidity</th>\n",
       "      <th>Temperature</th>\n",
       "    </tr>\n",
       "  </thead>\n",
       "  <tbody>\n",
       "    <tr>\n",
       "      <th>Cut Amplitude</th>\n",
       "      <td>1.000000</td>\n",
       "      <td>-0.088484</td>\n",
       "      <td>0.411653</td>\n",
       "      <td>0.899703</td>\n",
       "      <td>0.158348</td>\n",
       "      <td>-0.139214</td>\n",
       "      <td>0.119788</td>\n",
       "      <td>0.133060</td>\n",
       "    </tr>\n",
       "    <tr>\n",
       "      <th>Cut Energy</th>\n",
       "      <td>-0.088484</td>\n",
       "      <td>1.000000</td>\n",
       "      <td>-0.051025</td>\n",
       "      <td>-0.216703</td>\n",
       "      <td>0.708144</td>\n",
       "      <td>0.355684</td>\n",
       "      <td>-0.125524</td>\n",
       "      <td>0.101788</td>\n",
       "    </tr>\n",
       "    <tr>\n",
       "      <th>Cut Frequency</th>\n",
       "      <td>0.411653</td>\n",
       "      <td>-0.051025</td>\n",
       "      <td>1.000000</td>\n",
       "      <td>0.412032</td>\n",
       "      <td>0.104043</td>\n",
       "      <td>-0.539887</td>\n",
       "      <td>0.476386</td>\n",
       "      <td>0.347690</td>\n",
       "    </tr>\n",
       "    <tr>\n",
       "      <th>Cut Power</th>\n",
       "      <td>0.899703</td>\n",
       "      <td>-0.216703</td>\n",
       "      <td>0.412032</td>\n",
       "      <td>1.000000</td>\n",
       "      <td>0.076624</td>\n",
       "      <td>-0.043887</td>\n",
       "      <td>0.062471</td>\n",
       "      <td>0.089603</td>\n",
       "    </tr>\n",
       "    <tr>\n",
       "      <th>Cut WeldTime</th>\n",
       "      <td>0.158348</td>\n",
       "      <td>0.708144</td>\n",
       "      <td>0.104043</td>\n",
       "      <td>0.076624</td>\n",
       "      <td>1.000000</td>\n",
       "      <td>0.063371</td>\n",
       "      <td>0.046564</td>\n",
       "      <td>0.114621</td>\n",
       "    </tr>\n",
       "    <tr>\n",
       "      <th>Grammage</th>\n",
       "      <td>-0.139214</td>\n",
       "      <td>0.355684</td>\n",
       "      <td>-0.539887</td>\n",
       "      <td>-0.043887</td>\n",
       "      <td>0.063371</td>\n",
       "      <td>1.000000</td>\n",
       "      <td>-0.622789</td>\n",
       "      <td>-0.225381</td>\n",
       "    </tr>\n",
       "    <tr>\n",
       "      <th>Humidity</th>\n",
       "      <td>0.119788</td>\n",
       "      <td>-0.125524</td>\n",
       "      <td>0.476386</td>\n",
       "      <td>0.062471</td>\n",
       "      <td>0.046564</td>\n",
       "      <td>-0.622789</td>\n",
       "      <td>1.000000</td>\n",
       "      <td>0.013942</td>\n",
       "    </tr>\n",
       "    <tr>\n",
       "      <th>Temperature</th>\n",
       "      <td>0.133060</td>\n",
       "      <td>0.101788</td>\n",
       "      <td>0.347690</td>\n",
       "      <td>0.089603</td>\n",
       "      <td>0.114621</td>\n",
       "      <td>-0.225381</td>\n",
       "      <td>0.013942</td>\n",
       "      <td>1.000000</td>\n",
       "    </tr>\n",
       "  </tbody>\n",
       "</table>\n",
       "</div>"
      ],
      "text/plain": [
       "               Cut Amplitude  Cut Energy  Cut Frequency  Cut Power  \\\n",
       "Cut Amplitude       1.000000   -0.088484       0.411653   0.899703   \n",
       "Cut Energy         -0.088484    1.000000      -0.051025  -0.216703   \n",
       "Cut Frequency       0.411653   -0.051025       1.000000   0.412032   \n",
       "Cut Power           0.899703   -0.216703       0.412032   1.000000   \n",
       "Cut WeldTime        0.158348    0.708144       0.104043   0.076624   \n",
       "Grammage           -0.139214    0.355684      -0.539887  -0.043887   \n",
       "Humidity            0.119788   -0.125524       0.476386   0.062471   \n",
       "Temperature         0.133060    0.101788       0.347690   0.089603   \n",
       "\n",
       "               Cut WeldTime  Grammage  Humidity  Temperature  \n",
       "Cut Amplitude      0.158348 -0.139214  0.119788     0.133060  \n",
       "Cut Energy         0.708144  0.355684 -0.125524     0.101788  \n",
       "Cut Frequency      0.104043 -0.539887  0.476386     0.347690  \n",
       "Cut Power          0.076624 -0.043887  0.062471     0.089603  \n",
       "Cut WeldTime       1.000000  0.063371  0.046564     0.114621  \n",
       "Grammage           0.063371  1.000000 -0.622789    -0.225381  \n",
       "Humidity           0.046564 -0.622789  1.000000     0.013942  \n",
       "Temperature        0.114621 -0.225381  0.013942     1.000000  "
      ]
     },
     "execution_count": 5,
     "metadata": {},
     "output_type": "execute_result"
    }
   ],
   "source": [
    "# Plot correlation between numerical columns\n",
    "numCols = ['Cut Amplitude', 'Cut Energy','Cut Frequency','Cut Power','Cut WeldTime','Grammage','Humidity','Temperature']\n",
    "df[numCols].corr()"
   ]
  },
  {
   "cell_type": "code",
   "execution_count": 6,
   "metadata": {
    "colab": {
     "base_uri": "https://localhost:8080/",
     "height": 296
    },
    "id": "dFm7i8B8aT8v",
    "outputId": "e4fe739e-8b66-4b22-fc9b-65090f87576e"
   },
   "outputs": [
    {
     "data": {
      "text/plain": [
       "<AxesSubplot:xlabel='Cut Amplitude', ylabel='Cut Power'>"
      ]
     },
     "execution_count": 6,
     "metadata": {},
     "output_type": "execute_result"
    },
    {
     "data": {
      "image/png": "[encoded data removed]",
      "text/plain": [
       "<Figure size 432x288 with 1 Axes>"
      ]
     },
     "metadata": {
      "needs_background": "light"
     },
     "output_type": "display_data"
    }
   ],
   "source": [
    "sns.scatterplot(data=df, x='Cut Amplitude', y='Cut Power')"
   ]
  },
  {
   "cell_type": "markdown",
   "metadata": {},
   "source": [
    "### CLASIFICACION"
   ]
  },
  {
   "cell_type": "code",
   "execution_count": 7,
   "metadata": {},
   "outputs": [],
   "source": [
    "numCols = ['Cut Amplitude', 'Cut Energy','Cut Frequency','Cut Power','Cut WeldTime','Grammage','Humidity','Temperature']\n",
    "x = df[numCols]\n",
    "y=df['Line']"
   ]
  },
  {
   "cell_type": "code",
   "execution_count": 8,
   "metadata": {},
   "outputs": [
    {
     "data": {
      "text/plain": [
       "array([[0.82      , 0.36363636, 0.5       , ..., 0.        , 0.52643874,\n",
       "        0.9431429 ],\n",
       "       [0.42      , 0.36363636, 0.48623853, ..., 0.        , 0.52295261,\n",
       "        0.96570121],\n",
       "       [0.84      , 0.36363636, 0.6146789 , ..., 0.        , 0.52324296,\n",
       "        0.9494597 ],\n",
       "       ...,\n",
       "       [0.74      , 0.45454545, 0.30733945, ..., 0.79060303, 0.32510255,\n",
       "        0.44945674],\n",
       "       [0.84      , 0.45454545, 0.39908257, ..., 0.7905115 , 0.32800798,\n",
       "        0.45938737],\n",
       "       [0.64      , 0.45454545, 0.27981651, ..., 0.78712603, 0.33149412,\n",
       "        0.44945674]])"
      ]
     },
     "execution_count": 8,
     "metadata": {},
     "output_type": "execute_result"
    }
   ],
   "source": [
    "scaler = preprocessing.MinMaxScaler().fit(x)\n",
    "X_scaled = scaler.transform(x)\n",
    "X_scaled"
   ]
  },
  {
   "cell_type": "code",
   "execution_count": 9,
   "metadata": {},
   "outputs": [
    {
     "data": {
      "text/plain": [
       "0        400\n",
       "1        400\n",
       "2        400\n",
       "3        400\n",
       "4        400\n",
       "        ... \n",
       "16071    500\n",
       "16072    500\n",
       "16073    500\n",
       "16074    500\n",
       "16075    500\n",
       "Name: Line, Length: 16076, dtype: int64"
      ]
     },
     "execution_count": 9,
     "metadata": {},
     "output_type": "execute_result"
    }
   ],
   "source": [
    "y"
   ]
  },
  {
   "cell_type": "code",
   "execution_count": 10,
   "metadata": {},
   "outputs": [],
   "source": [
    "x_train, x_test, y_train, y_test = train_test_split(X_scaled, y, test_size=0.25, random_state=7,shuffle=True)"
   ]
  },
  {
   "cell_type": "code",
   "execution_count": 11,
   "metadata": {
    "id": "RJH21TG13t6R"
   },
   "outputs": [
    {
     "data": {
      "text/plain": [
       "SVC()"
      ]
     },
     "execution_count": 11,
     "metadata": {},
     "output_type": "execute_result"
    }
   ],
   "source": [
    "clf = svm.SVC()\n",
    "clf.fit(x_train, y_train)"
   ]
  },
  {
   "cell_type": "code",
   "execution_count": 12,
   "metadata": {},
   "outputs": [
    {
     "data": {
      "text/plain": [
       "array([500, 500, 500, ..., 500, 500, 500], dtype=int64)"
      ]
     },
     "execution_count": 12,
     "metadata": {},
     "output_type": "execute_result"
    }
   ],
   "source": [
    "y_pred = clf.predict(x_test)\n",
    "y_pred "
   ]
  },
  {
   "cell_type": "code",
   "execution_count": 13,
   "metadata": {},
   "outputs": [
    {
     "data": {
      "text/plain": [
       "10904    500\n",
       "8231     500\n",
       "7002     500\n",
       "9017     500\n",
       "11399    500\n",
       "        ... \n",
       "5135     500\n",
       "10692    500\n",
       "10230    500\n",
       "10876    500\n",
       "5890     500\n",
       "Name: Line, Length: 4019, dtype: int64"
      ]
     },
     "execution_count": 13,
     "metadata": {},
     "output_type": "execute_result"
    }
   ],
   "source": [
    "y_test"
   ]
  },
  {
   "cell_type": "code",
   "execution_count": 14,
   "metadata": {},
   "outputs": [
    {
     "data": {
      "text/plain": [
       "<AxesSubplot:>"
      ]
     },
     "execution_count": 14,
     "metadata": {},
     "output_type": "execute_result"
    },
    {
     "data": {
      "image/png": "[encoded data removed]",
      "text/plain": [
       "<Figure size 432x288 with 2 Axes>"
      ]
     },
     "metadata": {
      "needs_background": "light"
     },
     "output_type": "display_data"
    }
   ],
   "source": [
    "import seaborn as sns\n",
    "from sklearn.metrics import confusion_matrix\n",
    "cf_matrix = confusion_matrix(y_test, y_pred)\n",
    "sns.heatmap(cf_matrix, annot=True)"
   ]
  },
  {
   "cell_type": "code",
   "execution_count": 15,
   "metadata": {},
   "outputs": [
    {
     "data": {
      "text/plain": [
       "1.0"
      ]
     },
     "execution_count": 15,
     "metadata": {},
     "output_type": "execute_result"
    }
   ],
   "source": [
    "from sklearn.metrics import accuracy_score\n",
    "accuracy_score(y_test, y_pred, normalize=True)"
   ]
  },
  {
   "cell_type": "code",
   "execution_count": 16,
   "metadata": {},
   "outputs": [
    {
     "data": {
      "text/plain": [
       "1.0"
      ]
     },
     "execution_count": 16,
     "metadata": {},
     "output_type": "execute_result"
    }
   ],
   "source": [
    "from sklearn.metrics import f1_score\n",
    "f1_score(y_test, y_pred,pos_label=400)"
   ]
  },
  {
   "cell_type": "markdown",
   "metadata": {},
   "source": [
    "### REGRESION"
   ]
  },
  {
   "cell_type": "code",
   "execution_count": 17,
   "metadata": {},
   "outputs": [
    {
     "data": {
      "text/plain": [
       "<AxesSubplot:ylabel='Grammage'>"
      ]
     },
     "execution_count": 17,
     "metadata": {},
     "output_type": "execute_result"
    },
    {
     "data": {
      "image/png": "[encoded data removed]",
      "text/plain": [
       "<Figure size 432x288 with 1 Axes>"
      ]
     },
     "metadata": {
      "needs_background": "light"
     },
     "output_type": "display_data"
    }
   ],
   "source": [
    "sns.lineplot(data=df['Grammage'])"
   ]
  },
  {
   "cell_type": "code",
   "execution_count": 18,
   "metadata": {},
   "outputs": [
    {
     "data": {
      "text/plain": [
       "<AxesSubplot:ylabel='Grammage'>"
      ]
     },
     "execution_count": 18,
     "metadata": {},
     "output_type": "execute_result"
    },
    {
     "data": {
      "image/png": "[encoded data removed]",
      "text/plain": [
       "<Figure size 432x288 with 1 Axes>"
      ]
     },
     "metadata": {
      "needs_background": "light"
     },
     "output_type": "display_data"
    }
   ],
   "source": [
    "dfGrammage = df.loc[df['Grammage'] != 0]\n",
    "sns.lineplot(data=dfGrammage['Grammage'])"
   ]
  },
  {
   "cell_type": "code",
   "execution_count": 19,
   "metadata": {},
   "outputs": [
    {
     "data": {
      "text/plain": [
       "array([[0.        , 0.39583333, 1.        , ..., 0.54938519, 0.97635619,\n",
       "        0.67274899],\n",
       "       [0.        , 0.54166667, 1.        , ..., 0.55190915, 0.97930683,\n",
       "        0.58151285],\n",
       "       [0.        , 0.8125    , 1.        , ..., 0.55159378, 1.        ,\n",
       "        0.50386276],\n",
       "       ...,\n",
       "       [1.        , 0.77083333, 0.45454545, ..., 0.34806004, 0.39901344,\n",
       "        0.39038365],\n",
       "       [1.        , 0.875     , 0.45454545, ..., 0.35121576, 0.40985395,\n",
       "        0.39011716],\n",
       "       [1.        , 0.66666667, 0.45454545, ..., 0.35500221, 0.39901344,\n",
       "        0.38026105]])"
      ]
     },
     "execution_count": 19,
     "metadata": {},
     "output_type": "execute_result"
    }
   ],
   "source": [
    "c = ['Line','Cut Amplitude', 'Cut Energy','Cut Frequency','Cut Power','Cut WeldTime','Humidity','Temperature','Grammage']\n",
    "dfClean = dfGrammage[c]\n",
    "scaler = preprocessing.MinMaxScaler().fit(dfClean)\n",
    "df_scaled = scaler.transform(dfClean)\n",
    "df_scaled"
   ]
  },
  {
   "cell_type": "code",
   "execution_count": 20,
   "metadata": {},
   "outputs": [],
   "source": [
    "#numCols = ['Line','Cut Amplitude', 'Cut Energy','Cut Frequency','Cut Power','Cut WeldTime','Humidity','Temperature']\n",
    "x = df_scaled[:, :-1]\n",
    "y = df_scaled[:, -1]"
   ]
  },
  {
   "cell_type": "code",
   "execution_count": 21,
   "metadata": {},
   "outputs": [
    {
     "data": {
      "text/plain": [
       "array([0.67274899, 0.58151285, 0.50386276, ..., 0.39038365, 0.39011716,\n",
       "       0.38026105])"
      ]
     },
     "execution_count": 21,
     "metadata": {},
     "output_type": "execute_result"
    }
   ],
   "source": [
    "y"
   ]
  },
  {
   "cell_type": "code",
   "execution_count": 22,
   "metadata": {},
   "outputs": [],
   "source": [
    "x_train, x_test, y_train, y_test = train_test_split(x, y, test_size=0.25, random_state=7)"
   ]
  },
  {
   "cell_type": "code",
   "execution_count": 23,
   "metadata": {},
   "outputs": [
    {
     "data": {
      "text/plain": [
       "SVR()"
      ]
     },
     "execution_count": 23,
     "metadata": {},
     "output_type": "execute_result"
    }
   ],
   "source": [
    "regr = svm.SVR()\n",
    "regr.fit(x_train, y_train)"
   ]
  },
  {
   "cell_type": "code",
   "execution_count": 24,
   "metadata": {},
   "outputs": [
    {
     "data": {
      "text/plain": [
       "array([0.36387736, 0.38462586, 0.34633295, ..., 0.35512577, 0.36004404,\n",
       "       0.37054316])"
      ]
     },
     "execution_count": 24,
     "metadata": {},
     "output_type": "execute_result"
    }
   ],
   "source": [
    "y_pred = regr.predict(x_test)\n",
    "y_pred "
   ]
  },
  {
   "cell_type": "code",
   "execution_count": 25,
   "metadata": {},
   "outputs": [
    {
     "data": {
      "text/plain": [
       "0.5369666771141686"
      ]
     },
     "execution_count": 25,
     "metadata": {},
     "output_type": "execute_result"
    }
   ],
   "source": [
    "from sklearn.metrics import r2_score\n",
    "r2_score(y_test, y_pred)"
   ]
  },
  {
   "cell_type": "code",
   "execution_count": 26,
   "metadata": {},
   "outputs": [
    {
     "data": {
      "text/plain": [
       "0.04107761675909497"
      ]
     },
     "execution_count": 26,
     "metadata": {},
     "output_type": "execute_result"
    }
   ],
   "source": [
    "from sklearn.metrics import mean_squared_error, mean_absolute_error\n",
    "mean_absolute_error(y_test, y_pred)"
   ]
  },
  {
   "cell_type": "code",
   "execution_count": 27,
   "metadata": {},
   "outputs": [
    {
     "data": {
      "text/plain": [
       "0.0026843818850970855"
      ]
     },
     "execution_count": 27,
     "metadata": {},
     "output_type": "execute_result"
    }
   ],
   "source": [
    "mean_squared_error(y_test, y_pred)"
   ]
  },
  {
   "cell_type": "code",
   "execution_count": 28,
   "metadata": {},
   "outputs": [
    {
     "data": {
      "text/html": [
       "<div>\n",
       "<style scoped>\n",
       "    .dataframe tbody tr th:only-of-type {\n",
       "        vertical-align: middle;\n",
       "    }\n",
       "\n",
       "    .dataframe tbody tr th {\n",
       "        vertical-align: top;\n",
       "    }\n",
       "\n",
       "    .dataframe thead th {\n",
       "        text-align: right;\n",
       "    }\n",
       "</style>\n",
       "<table border=\"1\" class=\"dataframe\">\n",
       "  <thead>\n",
       "    <tr style=\"text-align: right;\">\n",
       "      <th></th>\n",
       "      <th>y</th>\n",
       "      <th>y_pred</th>\n",
       "    </tr>\n",
       "  </thead>\n",
       "  <tbody>\n",
       "    <tr>\n",
       "      <th>0</th>\n",
       "      <td>0.258524</td>\n",
       "      <td>0.163016</td>\n",
       "    </tr>\n",
       "    <tr>\n",
       "      <th>1</th>\n",
       "      <td>0.201518</td>\n",
       "      <td>0.163704</td>\n",
       "    </tr>\n",
       "    <tr>\n",
       "      <th>2</th>\n",
       "      <td>0.232419</td>\n",
       "      <td>0.164224</td>\n",
       "    </tr>\n",
       "    <tr>\n",
       "      <th>3</th>\n",
       "      <td>0.259856</td>\n",
       "      <td>0.164898</td>\n",
       "    </tr>\n",
       "    <tr>\n",
       "      <th>4</th>\n",
       "      <td>0.258524</td>\n",
       "      <td>0.165062</td>\n",
       "    </tr>\n",
       "    <tr>\n",
       "      <th>...</th>\n",
       "      <td>...</td>\n",
       "      <td>...</td>\n",
       "    </tr>\n",
       "    <tr>\n",
       "      <th>3172</th>\n",
       "      <td>0.862547</td>\n",
       "      <td>0.679351</td>\n",
       "    </tr>\n",
       "    <tr>\n",
       "      <th>3173</th>\n",
       "      <td>0.753197</td>\n",
       "      <td>0.745439</td>\n",
       "    </tr>\n",
       "    <tr>\n",
       "      <th>3174</th>\n",
       "      <td>0.633325</td>\n",
       "      <td>0.747129</td>\n",
       "    </tr>\n",
       "    <tr>\n",
       "      <th>3175</th>\n",
       "      <td>0.713106</td>\n",
       "      <td>0.772472</td>\n",
       "    </tr>\n",
       "    <tr>\n",
       "      <th>3176</th>\n",
       "      <td>0.744406</td>\n",
       "      <td>0.788996</td>\n",
       "    </tr>\n",
       "  </tbody>\n",
       "</table>\n",
       "<p>3177 rows × 2 columns</p>\n",
       "</div>"
      ],
      "text/plain": [
       "             y    y_pred\n",
       "0     0.258524  0.163016\n",
       "1     0.201518  0.163704\n",
       "2     0.232419  0.164224\n",
       "3     0.259856  0.164898\n",
       "4     0.258524  0.165062\n",
       "...        ...       ...\n",
       "3172  0.862547  0.679351\n",
       "3173  0.753197  0.745439\n",
       "3174  0.633325  0.747129\n",
       "3175  0.713106  0.772472\n",
       "3176  0.744406  0.788996\n",
       "\n",
       "[3177 rows x 2 columns]"
      ]
     },
     "execution_count": 28,
     "metadata": {},
     "output_type": "execute_result"
    }
   ],
   "source": [
    "my_pd=pd.DataFrame(data=[y_test,y_pred]).T\n",
    "my_pd.columns=['y','y_pred']\n",
    "my_pd = my_pd.sort_values(by=['y_pred'])\n",
    "my_pd= my_pd.reset_index(drop=True)\n",
    "my_pd"
   ]
  },
  {
   "cell_type": "code",
   "execution_count": 29,
   "metadata": {},
   "outputs": [
    {
     "data": {
      "text/plain": [
       "<AxesSubplot:ylabel='y_pred'>"
      ]
     },
     "execution_count": 29,
     "metadata": {},
     "output_type": "execute_result"
    },
    {
     "data": {
      "image/png": "[encoded data removed]",
      "text/plain": [
       "<Figure size 432x288 with 1 Axes>"
      ]
     },
     "metadata": {
      "needs_background": "light"
     },
     "output_type": "display_data"
    }
   ],
   "source": [
    "sns.lineplot(data=my_pd['y_pred'])\n",
    "sns.lineplot(data=my_pd)\n"
   ]
  },
  {
   "cell_type": "markdown",
   "metadata": {
    "id": "ms8Elgrj5vzT"
   },
   "source": [
    "# Contenido mínimo : \n",
    "\n",
    "\n",
    "1. Utiliza uno o dos metodos de seleccion de variables para evaluarlas y descartar alguna variable en caso de considerarse conveniente.  \n",
    "1. Utiliza otro metodo de clasificación para identificar a que linea pertenecen los datos.\n",
    "2. Utiliza otro metodo de regresión para predecir el gramage del papel filtrante.\n",
    "1. Añade y explica 2 metricas para evaluar el resultado de los modelos generados (2 para el clasificador y 2 para el regresor).\n",
    "\n",
    "# Ultimos 2 puntos: \n",
    "\n",
    "\n",
    "1.   Utiliza un algoritmo complejo (ej. Random Forest, NN...) y realiza un proceso de ajuste de los parametros para un problema de regresión por el cual queremos estimar el valor de la frecuencia de corte. Justifica al ajuste de parametros realizado.\n",
    "\n",
    "\n",
    "\n",
    "\n",
    "\n",
    "\n",
    "\n"
   ]
  },
  {
   "cell_type": "code",
   "execution_count": null,
   "metadata": {
    "id": "K6ajqZJRv8DW"
   },
   "outputs": [],
   "source": []
  },
  {
   "cell_type": "code",
   "execution_count": null,
   "metadata": {
    "id": "Auny3_BAFysm"
   },
   "outputs": [],
   "source": []
  },
  {
   "cell_type": "code",
   "execution_count": null,
   "metadata": {
    "id": "Oc9sw9iYbK4X"
   },
   "outputs": [],
   "source": []
  },
  {
   "cell_type": "code",
   "execution_count": null,
   "metadata": {
    "id": "D9og4b8VbLMY"
   },
   "outputs": [],
   "source": []
  },
  {
   "cell_type": "code",
   "execution_count": null,
   "metadata": {
    "id": "iwGUgSXKF2tH"
   },
   "outputs": [],
   "source": []
  },
  {
   "cell_type": "code",
   "execution_count": null,
   "metadata": {
    "id": "vH3iIxDCF5uG"
   },
   "outputs": [],
   "source": []
  }
 ],
 "metadata": {
  "colab": {
   "provenance": []
  },
  "kernelspec": {
   "display_name": "Python 3 (ipykernel)",
   "language": "python",
   "name": "python3"
  },
  "language_info": {
   "codemirror_mode": {
    "name": "ipython",
    "version": 3
   },
   "file_extension": ".py",
   "mimetype": "text/x-python",
   "name": "python",
   "nbconvert_exporter": "python",
   "pygments_lexer": "ipython3",
   "version": "3.9.12"
  }
 },
 "nbformat": 4,
 "nbformat_minor": 1
}
